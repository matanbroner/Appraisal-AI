{
  "nbformat": 4,
  "nbformat_minor": 0,
  "metadata": {
    "colab": {
      "name": "ProcessAddress.ipynb",
      "provenance": []
    },
    "kernelspec": {
      "name": "python3",
      "display_name": "Python 3"
    }
  },
  "cells": [
    {
      "cell_type": "code",
      "metadata": {
        "id": "gkxuBzJouFcQ",
        "colab_type": "code",
        "colab": {}
      },
      "source": [
        "!pip install geopandas\n",
        "!pip install geopy"
      ],
      "execution_count": 0,
      "outputs": []
    },
    {
      "cell_type": "code",
      "metadata": {
        "id": "_JT2RWkXybh_",
        "colab_type": "code",
        "colab": {}
      },
      "source": [
        "try:\n",
        "  # Use the %tensorflow_version magic if in colab.\n",
        "  %tensorflow_version 2.x\n",
        "except Exception:\n",
        "  pass\n",
        "\n",
        "import tensorflow as tf"
      ],
      "execution_count": 0,
      "outputs": []
    },
    {
      "cell_type": "code",
      "metadata": {
        "id": "OQwqd7LtwI6e",
        "colab_type": "code",
        "colab": {}
      },
      "source": [
        "import numpy as np\n",
        "import os\n",
        "from google.colab import files\n",
        "import zipfile\n",
        "from geopy.extra.rate_limiter import RateLimiter\n",
        "import pandas as pd"
      ],
      "execution_count": 0,
      "outputs": []
    },
    {
      "cell_type": "code",
      "metadata": {
        "id": "bHWcWxIwyhsD",
        "colab_type": "code",
        "colab": {}
      },
      "source": [
        "!pip install kaggle\n",
        "\n",
        "print(\"Please upload your Kaggle API token file (ie. kaggle.json)\")\n",
        "uploaded = files.upload()\n",
        "\n",
        "! mkdir ~/.kaggle\n",
        "! cp kaggle.json ~/.kaggle/\n",
        "! chmod 600 ~/.kaggle/kaggle.json\n",
        "\n",
        "!kaggle datasets download -d ted8080/house-prices-and-images-socal\n",
        "with zipfile.ZipFile(\"house-prices-and-images-socal.zip\",\"r\") as zip_ref:\n",
        "    zip_ref.extractall(\"./\")"
      ],
      "execution_count": 0,
      "outputs": []
    },
    {
      "cell_type": "code",
      "metadata": {
        "id": "PpG-AGDbyoAz",
        "colab_type": "code",
        "colab": {}
      },
      "source": [
        "import pandas as pd\n",
        "\n",
        "housing_csv = pd.read_csv(\"./socal2.csv\")\n",
        "housing_csv.head()"
      ],
      "execution_count": 0,
      "outputs": []
    },
    {
      "cell_type": "code",
      "metadata": {
        "id": "8m4XKEPzyxor",
        "colab_type": "code",
        "colab": {}
      },
      "source": [
        "def concat_address(street, city):\n",
        "  return street + \" \" + city\n",
        "\n",
        "housing_csv['address'] = housing_csv.apply(lambda x: concat_address(street = x['street'], city = x['citi']), axis=1)\n",
        "\n",
        "housing_csv = housing_csv.drop(columns=filtered_cols)"
      ],
      "execution_count": 0,
      "outputs": []
    },
    {
      "cell_type": "code",
      "metadata": {
        "id": "YzFnzr1F7KIc",
        "colab_type": "code",
        "colab": {}
      },
      "source": [
        "geocode = RateLimiter(locator.geocode, min_delay_seconds=1)\n",
        "def process_addr(addr, recursion=0):\n",
        "  try:\n",
        "    p_addr = geocode(addr)\n",
        "    print(\"Completed processing:\", addr)\n",
        "    return p_addr\n",
        "  except GeocoderTimedOut as e:\n",
        "      if recursion > 10:\n",
        "          raise e\n",
        "      time.sleep(1)\n",
        "      return geocode(city, recursion=recursion + 1)\n",
        "\n",
        "housing_csv['location'] = housing_csv['address'].apply(process_addr)\n",
        "housing_csv['point'] = housing_csv['location'].apply(lambda loc: tuple(loc.point) if loc else None)\n",
        "housing_csv[['latitude', 'longitude', 'altitude']] = housing_csv.DataFrame(df['point'].tolist(), index=housing_csv.index)\n",
        "\n",
        "# Remove unnecessary columns from dataset\n",
        "filtered_cols = [\n",
        "  'citi',\n",
        "  'street',\n",
        "  'altitude',\n",
        "  'location', \n",
        "  'point'\n",
        "]"
      ],
      "execution_count": 0,
      "outputs": []
    },
    {
      "cell_type": "code",
      "metadata": {
        "id": "UvaT4Vf_5u3S",
        "colab_type": "code",
        "colab": {}
      },
      "source": [
        ""
      ],
      "execution_count": 0,
      "outputs": []
    }
  ]
}