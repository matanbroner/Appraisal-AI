{
  "nbformat": 4,
  "nbformat_minor": 0,
  "metadata": {
    "colab": {
      "name": "Untitled0.ipynb",
      "provenance": []
    },
    "kernelspec": {
      "name": "python3",
      "display_name": "Python 3"
    }
  },
  "cells": [
    {
      "cell_type": "code",
      "execution_count": 0,
      "metadata": {
        "colab": {},
        "colab_type": "code",
        "id": "TNhuIJ6Qjt16"
      },
      "outputs": [],
      "source": [
        "# Imports\n",
        "import numpy as np\n",
        "import os\n",
        "import tensorflow as tf\n",
        "from google.colab import files\n",
        "import zipfile"
      ]
    },
    {
      "cell_type": "code",
      "execution_count": 0,
      "metadata": {
        "colab": {},
        "colab_type": "code",
        "id": "iCg2lV3YjpRN"
      },
      "outputs": [],
      "source": [
        "# Tensorflow 2.0 setup (1.15.0 is defaulted)\n",
        "if(tf.__version__ != '2.0.0'):\n",
        "  !pip3 uninstall tensorflow\n",
        "  !pip3 install tensorflow==2.0.0\n",
        "  os.kill(os.getpid(), 9) # restart runtime"
      ]
    },
    {
      "cell_type": "code",
      "execution_count": 0,
      "metadata": {
        "colab": {},
        "colab_type": "code",
        "id": "wMqiWgSpVtJC"
      },
      "outputs": [],
      "source": [
        "# Kaggle Setup\n",
        "!pip install kaggle\n",
        "\n",
        "print(\"Please upload your Kaggle API token file (ie. kaggle.json)\")\n",
        "uploaded = files.upload()\n",
        "\n",
        "! mkdir ~/.kaggle\n",
        "! cp kaggle.json ~/.kaggle/\n",
        "! chmod 600 ~/.kaggle/kaggle.json\n",
        "\n",
        "!kaggle datasets download -d ted8080/house-prices-and-images-socal\n",
        "with zipfile.ZipFile(\"house-prices-and-images-socal.zip\",\"r\") as zip_ref:\n",
        "    zip_ref.extractall(\"./\")"
      ]
    },
    {
      "cell_type": "code",
      "execution_count": 14,
      "metadata": {
        "colab": {
          "base_uri": "https://localhost:8080/",
          "height": 34
        },
        "colab_type": "code",
        "id": "_UrvWdAjUoxw",
        "outputId": "c421e63c-6827-4e75-b13b-d0d8340656a0"
      },
      "outputs": [
        {
          "name": "stdout",
          "output_type": "stream",
          "text": [
            "Salton City, CA\n"
          ]
        }
      ],
      "source": [
        "# Generate the dataset\n",
        "import pandas as pd\n",
        "\n",
        "housing_csv = pd.read_csv(\"./socal2.csv\")"
      ]
    }
  ]
}