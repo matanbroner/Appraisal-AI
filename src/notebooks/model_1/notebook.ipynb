{
  "nbformat": 4,
  "nbformat_minor": 0,
  "metadata": {
    "colab": {
      "name": "Untitled0.ipynb",
      "provenance": []
    },
    "kernelspec": {
      "name": "python3",
      "display_name": "Python 3"
    }
  },
  "cells": [
    {
      "cell_type": "code",
      "metadata": {
        "id": "TNhuIJ6Qjt16",
        "colab_type": "code",
        "colab": {}
      },
      "source": [
        "# Imports\n",
        "import numpy as np\n",
        "import os\n",
        "import tensorflow as tf\n",
        "from google.colab import files\n",
        "import zipfile"
      ],
      "execution_count": 0,
      "outputs": []
    },
    {
      "cell_type": "code",
      "metadata": {
        "id": "iCg2lV3YjpRN",
        "colab_type": "code",
        "colab": {}
      },
      "source": [
        "# Tensorflow 2.0 setup (1.15.0 is defaulted)\n",
        "if(tf.__version__ != '2.0.0'):\n",
        "  !pip3 uninstall tensorflow\n",
        "  !pip3 install tensorflow==2.0.0\n",
        "  os.kill(os.getpid(), 9) # restart runtime"
      ],
      "execution_count": 0,
      "outputs": []
    },
    {
      "cell_type": "code",
      "metadata": {
        "id": "wMqiWgSpVtJC",
        "colab_type": "code",
        "colab": {}
      },
      "source": [
        "# Kaggle Setup\n",
        "!pip install kaggle\n",
        "\n",
        "print(\"Please upload your Kaggle API token file (ie. kaggle.json)\")\n",
        "uploaded = files.upload()\n",
        "\n",
        "!kaggle datasets download -d ted8080/house-prices-and-images-socal\n",
        "os.chdir('{/content}/datasets/ted8080/house-prices-and-images-socal')\n",
        "for file in os.listdir():\n",
        "    zip_ref = zipfile.ZipFile(file, 'r')\n",
        "    zip_ref.extractall()\n",
        "    zip_ref.close()\n"
      ],
      "execution_count": 0,
      "outputs": []
    },
    {
      "cell_type": "code",
      "metadata": {
        "id": "_UrvWdAjUoxw",
        "colab_type": "code",
        "colab": {
          "base_uri": "https://localhost:8080/",
          "height": 34
        },
        "outputId": "c421e63c-6827-4e75-b13b-d0d8340656a0"
      },
      "source": [
        "# Generate the dataset\n",
        "import pandas as pd\n",
        "\n",
        "housing_csv = pd.read_csv(\"./socal2.csv\")"
      ],
      "execution_count": 14,
      "outputs": [
        {
          "output_type": "stream",
          "text": [
            "Salton City, CA\n"
          ],
          "name": "stdout"
        }
      ]
    }
  ]
}